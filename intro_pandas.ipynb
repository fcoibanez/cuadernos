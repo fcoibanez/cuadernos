{
 "cells": [
  {
   "cell_type": "markdown",
   "id": "1157bced-3ad0-4b40-a889-a3c6f9c9fe5e",
   "metadata": {},
   "source": [
    "# Introduccion a Pandas\n",
    "- Pandas es una libreria de Python que permite facil y rapida manipulacion de datos categoricos y de series de tiempo\n",
    "- Inicialmente desarrollado por un investigador de AQR Capital Management, por lo que incluye muchas aplicaciones financieras\n",
    "- Hoy en dia, pandas es comunmente usado en *data science y *finanzas quantitativas*\n",
    "\n",
    "### 1. Series\n",
    "- Es un array unidimensional que puede contener cualquier data type (enteros, strings, floats, etc)\n",
    "- Los valores dentro de un Series estan contenidos dentro de un array de NumPy (transformando a pandas en un *wrapper*)\n",
    "- A diferencia de un array de NumPy, un Series tiene otros atributos como indice y nombre\n",
    "- Este indice puede contener data categorica (e.g. sectores accionarios), fechas (formando series de tiempo), y otros"
   ]
  },
  {
   "cell_type": "code",
   "execution_count": 1,
   "id": "f27c330e-cb01-4b3b-9469-de71541ac3e6",
   "metadata": {},
   "outputs": [
    {
     "name": "stdout",
     "output_type": "stream",
     "text": [
      "Nombre          Martin\n",
      "Edad                24\n",
      "Profesion    Ingeniero\n",
      "Egresado         False\n",
      "Name: Datos personales, dtype: object\n"
     ]
    }
   ],
   "source": [
    "import pandas as pd  # Importamos la libreria\n",
    "\n",
    "s = pd.Series(\n",
    "    data=['Martin', 24, 'Ingeniero', False],\n",
    "    index=['Nombre', 'Edad', 'Profesion', 'Egresado'],\n",
    "    name='Datos personales'\n",
    ")\n",
    "print(s)"
   ]
  },
  {
   "cell_type": "code",
   "execution_count": 2,
   "id": "8a920821-fcef-404c-89dc-2ca828f2da71",
   "metadata": {},
   "outputs": [
    {
     "name": "stdout",
     "output_type": "stream",
     "text": [
      "<class 'pandas.core.series.Series'>\n"
     ]
    }
   ],
   "source": [
    "# El objeto Series pertenece a una nueva clase\n",
    "print(type(s))"
   ]
  },
  {
   "cell_type": "code",
   "execution_count": 3,
   "id": "a4ea23fd-bf5f-4e09-911b-d4f29d8cab60",
   "metadata": {},
   "outputs": [
    {
     "name": "stdout",
     "output_type": "stream",
     "text": [
      "Valores del Series:\n",
      " ['Martin' 24 'Ingeniero' False]\n",
      "\n",
      "Indice del Series:\n",
      " Index(['Nombre', 'Edad', 'Profesion', 'Egresado'], dtype='object')\n",
      "\n",
      "Nombre del Series:\n",
      " Datos personales\n"
     ]
    }
   ],
   "source": [
    "# Elementos que componen un Pandas Series\n",
    "print('Valores del Series:\\n', s.values)\n",
    "print('\\nIndice del Series:\\n', s.index)\n",
    "print('\\nNombre del Series:\\n', s.name)"
   ]
  },
  {
   "cell_type": "code",
   "execution_count": 4,
   "id": "400c16df-2aa2-4ed9-9a49-42bc3b183c33",
   "metadata": {},
   "outputs": [
    {
     "name": "stdout",
     "output_type": "stream",
     "text": [
      "Mi nombre es Martin y soy Ingeniero.\n"
     ]
    }
   ],
   "source": [
    "# Podemos acceder a valores del series usando el indice correspondiente\n",
    "print(f\"Mi nombre es {s['Nombre']} y soy {s['Profesion']}.\")"
   ]
  },
  {
   "cell_type": "code",
   "execution_count": 5,
   "id": "c8802cc0-5ec3-45ce-a82a-b0694e627412",
   "metadata": {},
   "outputs": [
    {
     "name": "stdout",
     "output_type": "stream",
     "text": [
      "Mi nombre es Martin y soy Ingeniero.\n"
     ]
    }
   ],
   "source": [
    "# Tambien podemos hacerlo utilizando indices numericos\n",
    "print(f\"Mi nombre es {s[0]} y soy {s[2]}.\")"
   ]
  },
  {
   "cell_type": "markdown",
   "id": "3e81971c-b07b-4178-b30c-a1fa57657ab7",
   "metadata": {},
   "source": [
    "### 2. DataFrame\n",
    "- Es un array bidimensional que puede contener cualquier data type (enteros, strings, floats, etc)\n",
    "- Un DataFrame es una estructura de datos con ejes (filas y columnas) etiquetadas\n",
    "- Cada columna de un DataFrame es un Series\n",
    "- Al igual que en un objeto Series, el indice (y columnas) de un DataFrame puede contener data categorica (e.g. sectores accionarios), fechas (formando series de tiempo), y otros"
   ]
  },
  {
   "cell_type": "code",
   "execution_count": 6,
   "id": "2b7da02b-039b-4ef6-96e8-af5925148a94",
   "metadata": {},
   "outputs": [
    {
     "name": "stdout",
     "output_type": "stream",
     "text": [
      "              Martin   Maria       Laura       Jose\n",
      "Edad              24      21          27         30\n",
      "Profesion  Ingeniero  Medico  Arquitecto  Ingeniero\n",
      "Egresado       False   False        True       True\n"
     ]
    }
   ],
   "source": [
    "# Mi primer DataFrame\n",
    "df = pd.DataFrame(\n",
    "    data=[[24, 21, 27, 30], ['Ingeniero', 'Medico', 'Arquitecto', 'Ingeniero'], [False, False, True, True]],\n",
    "    index=['Edad', 'Profesion', 'Egresado'],\n",
    "    columns=['Martin', 'Maria', 'Laura', 'Jose']\n",
    ")\n",
    "\n",
    "print(df)"
   ]
  },
  {
   "cell_type": "code",
   "execution_count": 7,
   "id": "e04ec811-70ea-4dcb-a922-c104dd7403ef",
   "metadata": {},
   "outputs": [
    {
     "name": "stdout",
     "output_type": "stream",
     "text": [
      "<class 'pandas.core.frame.DataFrame'>\n"
     ]
    }
   ],
   "source": [
    "# El objeto DataFrame pertenece a una nueva clase\n",
    "print(type(df))"
   ]
  },
  {
   "cell_type": "code",
   "execution_count": 8,
   "id": "65b5462c-c09f-4dae-a851-aa869127b1c2",
   "metadata": {},
   "outputs": [
    {
     "name": "stdout",
     "output_type": "stream",
     "text": [
      "Valores del DataFrame:\n",
      " [[24 21 27 30]\n",
      " ['Ingeniero' 'Medico' 'Arquitecto' 'Ingeniero']\n",
      " [False False True True]]\n",
      "\n",
      "Indice del DataFrame:\n",
      " Index(['Edad', 'Profesion', 'Egresado'], dtype='object')\n",
      "\n",
      "Columnas del DataFrame:\n",
      " Index(['Martin', 'Maria', 'Laura', 'Jose'], dtype='object')\n"
     ]
    }
   ],
   "source": [
    "# Elementos que componen un Pandas Series\n",
    "print('Valores del DataFrame:\\n', df.values)\n",
    "print('\\nIndice del DataFrame:\\n', df.index)\n",
    "print('\\nColumnas del DataFrame:\\n', df.columns)"
   ]
  },
  {
   "cell_type": "code",
   "execution_count": 9,
   "id": "1cdab327-da51-4eaa-8e9f-066dbb884fed",
   "metadata": {},
   "outputs": [
    {
     "name": "stdout",
     "output_type": "stream",
     "text": [
      "Edad                24\n",
      "Profesion    Ingeniero\n",
      "Egresado         False\n",
      "Name: Martin, dtype: object\n"
     ]
    }
   ],
   "source": [
    "# Miremos mas de cerca\n",
    "print(df['Martin'])"
   ]
  },
  {
   "cell_type": "code",
   "execution_count": 10,
   "id": "5f784cbb-496a-4e9c-b8ea-d717b04567c1",
   "metadata": {},
   "outputs": [
    {
     "name": "stdout",
     "output_type": "stream",
     "text": [
      "              Martin   Maria       Laura       Jose    Barbara\n",
      "Edad              24      21          27         30         28\n",
      "Profesion  Ingeniero  Medico  Arquitecto  Ingeniero  Ingeniero\n",
      "Egresado       False   False        True       True       True\n"
     ]
    }
   ],
   "source": [
    "# Una forma de agregar una nueva entrada es con un Series\n",
    "df['Barbara'] = pd.Series(\n",
    "    [28, 'Ingeniero', True], \n",
    "    index=['Edad', 'Profesion', 'Egresado']\n",
    ")\n",
    "\n",
    "print(df)"
   ]
  },
  {
   "cell_type": "code",
   "execution_count": 11,
   "id": "cd402d0d-f524-498d-bb5e-ed97e3a4e179",
   "metadata": {},
   "outputs": [
    {
     "name": "stdout",
     "output_type": "stream",
     "text": [
      "              Martin       Jose\n",
      "Edad              24         30\n",
      "Profesion  Ingeniero  Ingeniero\n",
      "Egresado       False       True\n"
     ]
    }
   ],
   "source": [
    "# Usamos listas para seleccionar multiple entradas\n",
    "print(df[['Martin', 'Jose']])"
   ]
  },
  {
   "cell_type": "code",
   "execution_count": 12,
   "id": "88cbb831-3577-4062-876d-d232e6e9ae65",
   "metadata": {},
   "outputs": [
    {
     "name": "stdout",
     "output_type": "stream",
     "text": [
      "Martin      Ingeniero\n",
      "Maria          Medico\n",
      "Laura      Arquitecto\n",
      "Jose        Ingeniero\n",
      "Barbara     Ingeniero\n",
      "Name: Profesion, dtype: object\n"
     ]
    }
   ],
   "source": [
    "# Y podemos seleccionar filas enteras con 'loc'\n",
    "print(df.loc['Profesion'])"
   ]
  },
  {
   "cell_type": "code",
   "execution_count": 13,
   "id": "560d4e3f-8fd1-4377-bc6c-c7558185e71a",
   "metadata": {},
   "outputs": [
    {
     "name": "stdout",
     "output_type": "stream",
     "text": [
      "30\n"
     ]
    }
   ],
   "source": [
    "# Tambien usamos 'loc' para acceder a una entrada especifica (fila, columna)\n",
    "print(df.loc['Edad', 'Jose'])"
   ]
  },
  {
   "cell_type": "code",
   "execution_count": 14,
   "id": "e5e09ed9-5231-4a98-9100-964b4f92863e",
   "metadata": {},
   "outputs": [
    {
     "name": "stdout",
     "output_type": "stream",
     "text": [
      "26.0 21 30 130 5 28.0\n"
     ]
    }
   ],
   "source": [
    "edad = df.loc['Edad']  # Guardamos 'Edad' como un Series\n",
    "\n",
    "edad_prom = edad.mean()\n",
    "edad_min = edad.min()\n",
    "edad_max = edad.max()\n",
    "edad_total = edad.sum()\n",
    "edad_n = edad.count()  # Numero de entradas no N/A\n",
    "edad_q75 = edad.quantile(.75)\n",
    "print(edad_prom, edad_min, edad_max, edad_total, edad_n, edad_q75)"
   ]
  },
  {
   "cell_type": "code",
   "execution_count": 15,
   "id": "84d5ad41-e99b-4881-9433-18789235b1dd",
   "metadata": {},
   "outputs": [
    {
     "name": "stdout",
     "output_type": "stream",
     "text": [
      "                Laura       Jose    Barbara\n",
      "Edad               27         30         28\n",
      "Profesion  Arquitecto  Ingeniero  Ingeniero\n",
      "Egresado         True       True       True\n"
     ]
    }
   ],
   "source": [
    "# Nos enfocamos en los egresados\n",
    "mascara = df.loc['Egresado']  # Vector de booleans\n",
    "df2 = df.loc[:, mascara]  # ':' -> todas las filas/columnas\n",
    "print(df2)"
   ]
  },
  {
   "cell_type": "code",
   "execution_count": 16,
   "id": "aca56acf-6e02-46a2-8339-03526facc5bd",
   "metadata": {},
   "outputs": [
    {
     "name": "stdout",
     "output_type": "stream",
     "text": [
      "28.333333333333332\n"
     ]
    }
   ],
   "source": [
    "# Cual es la edad promedio de los egresados?\n",
    "print(df2.loc['Edad'].mean())"
   ]
  },
  {
   "cell_type": "code",
   "execution_count": 17,
   "id": "b92bd678-e186-455f-ac89-d814c0cbc031",
   "metadata": {},
   "outputs": [
    {
     "name": "stdout",
     "output_type": "stream",
     "text": [
      "Profesion\n",
      "Arquitecto    1\n",
      "Ingeniero     2\n",
      "Name: Profesion, dtype: int64\n"
     ]
    }
   ],
   "source": [
    "# Cual es la profesion mas comun entre los egresados?\n",
    "profesion = df2.loc['Profesion']\n",
    "ranking = profesion.groupby(profesion).count()\n",
    "print(ranking)"
   ]
  },
  {
   "cell_type": "code",
   "execution_count": 18,
   "id": "7d4c58a5-c36c-4aee-afb2-8640d054bd8c",
   "metadata": {},
   "outputs": [
    {
     "name": "stdout",
     "output_type": "stream",
     "text": [
      "Profesion\n",
      "Ingeniero     2\n",
      "Arquitecto    1\n",
      "Name: Profesion, dtype: int64\n"
     ]
    }
   ],
   "source": [
    "# ...pero los rankings deberian estar ordenados\n",
    "ranking = ranking.sort_values(ascending=False)\n",
    "print(ranking)"
   ]
  },
  {
   "cell_type": "markdown",
   "id": "9096e035-e3e0-467b-a8b3-6e999e4cc112",
   "metadata": {},
   "source": [
    "### 3. IO\n",
    "- En la practica, es comun trabajar con datos que ya estan guardados en:\n",
    "    1. algun otro archivo (ej. .csv, .xlsx, .json) o\n",
    "    2. directo desde una base de datos\n",
    "- Pandas permite rapida y facil importacion de datasets con las funciones **.read**_ (ej. pd.read_excel(), pd.read_csv(), pd.read\\_pickle())\n",
    "- Cuando terminemos de trabajar con nuestra data y queramos guardar los resultados, podemos usar los metodos **.to**_ en el DataFrame/Series (ej. df.to\\_excel(), df.to\\_csv(), df.to\\_pickle())"
   ]
  },
  {
   "cell_type": "code",
   "execution_count": 19,
   "id": "191b5348-e7b3-42da-9bff-3bdbd8ef38dd",
   "metadata": {},
   "outputs": [
    {
     "data": {
      "text/html": [
       "<div>\n",
       "<style scoped>\n",
       "    .dataframe tbody tr th:only-of-type {\n",
       "        vertical-align: middle;\n",
       "    }\n",
       "\n",
       "    .dataframe tbody tr th {\n",
       "        vertical-align: top;\n",
       "    }\n",
       "\n",
       "    .dataframe thead th {\n",
       "        text-align: right;\n",
       "    }\n",
       "</style>\n",
       "<table border=\"1\" class=\"dataframe\">\n",
       "  <thead>\n",
       "    <tr style=\"text-align: right;\">\n",
       "      <th></th>\n",
       "      <th>Peak month</th>\n",
       "      <th>Trough month</th>\n",
       "      <th>Duration, peak to trough</th>\n",
       "      <th>Duration, trough to peak</th>\n",
       "      <th>Duration, peak to peak</th>\n",
       "      <th>Duration, trough to trough</th>\n",
       "    </tr>\n",
       "  </thead>\n",
       "  <tbody>\n",
       "    <tr>\n",
       "      <th>0</th>\n",
       "      <td>NaN</td>\n",
       "      <td>December 1854</td>\n",
       "      <td>NaN</td>\n",
       "      <td>NaN</td>\n",
       "      <td>NaN</td>\n",
       "      <td>NaN</td>\n",
       "    </tr>\n",
       "    <tr>\n",
       "      <th>1</th>\n",
       "      <td>June 1857</td>\n",
       "      <td>December 1858</td>\n",
       "      <td>18.0</td>\n",
       "      <td>30.0</td>\n",
       "      <td>NaN</td>\n",
       "      <td>48.0</td>\n",
       "    </tr>\n",
       "    <tr>\n",
       "      <th>2</th>\n",
       "      <td>October 1860</td>\n",
       "      <td>June 1861</td>\n",
       "      <td>8.0</td>\n",
       "      <td>22.0</td>\n",
       "      <td>40.0</td>\n",
       "      <td>30.0</td>\n",
       "    </tr>\n",
       "    <tr>\n",
       "      <th>3</th>\n",
       "      <td>April 1865</td>\n",
       "      <td>December 1867</td>\n",
       "      <td>32.0</td>\n",
       "      <td>46.0</td>\n",
       "      <td>54.0</td>\n",
       "      <td>78.0</td>\n",
       "    </tr>\n",
       "    <tr>\n",
       "      <th>4</th>\n",
       "      <td>June 1869</td>\n",
       "      <td>December 1870</td>\n",
       "      <td>18.0</td>\n",
       "      <td>18.0</td>\n",
       "      <td>50.0</td>\n",
       "      <td>36.0</td>\n",
       "    </tr>\n",
       "  </tbody>\n",
       "</table>\n",
       "</div>"
      ],
      "text/plain": [
       "     Peak month   Trough month  Duration, peak to trough  \\\n",
       "0           NaN  December 1854                       NaN   \n",
       "1     June 1857  December 1858                      18.0   \n",
       "2  October 1860      June 1861                       8.0   \n",
       "3    April 1865  December 1867                      32.0   \n",
       "4     June 1869  December 1870                      18.0   \n",
       "\n",
       "   Duration, trough to peak  Duration, peak to peak  \\\n",
       "0                       NaN                     NaN   \n",
       "1                      30.0                     NaN   \n",
       "2                      22.0                    40.0   \n",
       "3                      46.0                    54.0   \n",
       "4                      18.0                    50.0   \n",
       "\n",
       "   Duration, trough to trough  \n",
       "0                         NaN  \n",
       "1                        48.0  \n",
       "2                        30.0  \n",
       "3                        78.0  \n",
       "4                        36.0  "
      ]
     },
     "execution_count": 19,
     "metadata": {},
     "output_type": "execute_result"
    }
   ],
   "source": [
    "# Importemos una planilla Excel (mismo directorio que el codigo)\n",
    "ciclos = pd.read_excel('nber_cycle.xlsx')\n",
    "ciclos.head()"
   ]
  },
  {
   "cell_type": "code",
   "execution_count": 20,
   "id": "58f91b55-d8b9-4b65-ad14-ad8316fbfcc1",
   "metadata": {},
   "outputs": [
    {
     "name": "stdout",
     "output_type": "stream",
     "text": [
      "C:\\Users\\franc\\Google Drive\\bin\\cuadernos\n"
     ]
    }
   ],
   "source": [
    "# Limpiamos un poco la data  \n",
    "ciclos2 = ciclos.drop(['Duration, peak to peak', 'Duration, trough to trough'], axis=1)\n",
    "\n",
    "# Y luego la guardamos\n",
    "ciclos2.to_pickle('ciclos.pkl')\n",
    "\n",
    "# Y donde se guardo?\n",
    "import os\n",
    "print(os.getcwd())  # <-- Carpeta en la que estamos trabajando"
   ]
  }
 ],
 "metadata": {
  "kernelspec": {
   "display_name": "Python 3",
   "language": "python",
   "name": "python3"
  },
  "language_info": {
   "codemirror_mode": {
    "name": "ipython",
    "version": 3
   },
   "file_extension": ".py",
   "mimetype": "text/x-python",
   "name": "python",
   "nbconvert_exporter": "python",
   "pygments_lexer": "ipython3",
   "version": "3.9.1"
  }
 },
 "nbformat": 4,
 "nbformat_minor": 5
}
