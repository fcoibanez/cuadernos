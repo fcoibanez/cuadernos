{
 "cells": [
  {
   "cell_type": "markdown",
   "id": "d23d2dfa-8a6e-4872-adc4-f849c8f82eac",
   "metadata": {},
   "source": [
    "# Matematica de Portafolios\n",
    "\n",
    "El desempeño (retorno) de un portafolio de inversiones es una combinacion lineal del\n",
    "desempeño de los activos que lo componen.\n",
    "\n",
    "\\begin{align}\n",
    "\\mu_{P} &= w_{A}\\mu_{A} + w_{B}\\mu_{B} \\\\\n",
    "\\sigma^{2}_{P} &= w_{A}^{2}\\sigma_{A}^{2} + w^{2}_{B}\\sigma_{B}^{2} + 2w_{A}w_{B}\\sigma_{A,B}\n",
    "\\end{align}\n",
    "\n",
    "### 1. El caso de dos activos\n",
    "Asumamos que tenemos dos activos en los que invertir:\n",
    "\n",
    "|Activo| Retorno esperado ($\\mu$) | Volatilidad ($\\sigma$) | Peso ($w$) |\n",
    "|:----:|:------------------------:|:----------------------:|:----------:|\n",
    "| A    | 15\\%                     | 12\\%                   | 30\\%       |\n",
    "| B    | 5\\%                      | 4\\%                    | 70\\%       |\n",
    "\n",
    "La covarianza entre **A** y **B** es 0.002.\n",
    "\n",
    "Estimemos:\n",
    "1. Retorno esperado del portafolio ($\\mu_{P}$)\n",
    "2. Volatilidad del portafolio ($\\sigma_{P}$)"
   ]
  },
  {
   "cell_type": "code",
   "execution_count": 1,
   "id": "94e6badc-5c09-474d-a8b9-1ed64a0837ad",
   "metadata": {},
   "outputs": [
    {
     "name": "stdout",
     "output_type": "stream",
     "text": [
      "El retorno de nuestro portafolio es 8.0%\n",
      "La volatilidad de nuestro portafolio es 5.4%\n"
     ]
    }
   ],
   "source": [
    "import numpy as np\n",
    "\n",
    "# El caso con dos activos\n",
    "mu_a = .15\n",
    "mu_b = .05\n",
    "sigma_a = .12\n",
    "sigma_b = .04\n",
    "cov_ab = .002\n",
    "\n",
    "# Pesos del portafolio\n",
    "w_a = .3\n",
    "w_b = 1 - w_a\n",
    "\n",
    "# Retorno de portafolio\n",
    "mu_p = w_a * mu_a + w_b * mu_b\n",
    "\n",
    "# Varianza del portafolio\n",
    "var_p = w_a**2 * sigma_a**2 + w_b**2 * sigma_b**2 + 2 * w_a * w_b * cov_ab\n",
    "sigma_p = np.sqrt(var_p)\n",
    "\n",
    "print(f'El retorno de nuestro portafolio es {round(mu_p * 100, 2)}%')\n",
    "print(f'La volatilidad de nuestro portafolio es {round(sigma_p * 100, 2)}%')"
   ]
  },
  {
   "cell_type": "markdown",
   "id": "3f18d8dd-dfce-4de9-a246-bac4033622cc",
   "metadata": {
    "tags": []
   },
   "source": [
    "### 2. El caso de multiples activos\n",
    "En el caso de mas de dos activos es mejor usar operaciones matriciales.\n",
    "\n",
    "\\begin{align}\n",
    "w &= \\begin{bmatrix} w_{A} \\\\ w_{B} \\end{bmatrix} \\\\ \\\\ \\mu &= \\begin{bmatrix} \\mu_{A} \\\\ \\mu_{B} \\end{bmatrix} \\\\ \\\\ \\Sigma &= \\begin{bmatrix} \\sigma_{A}^{2} & \\sigma_{A, B} \\\\ \\sigma_{B, A} & \\sigma_{B}^{2} \\end{bmatrix}\n",
    "\\end{align}\n",
    "\n",
    "Luego los calculos se resumen en:\n",
    "\n",
    "\\begin{align}\n",
    "\\mu_{P} = w^T\\mu \\\\ \\\\\n",
    "\\sigma_{P}^2 = w^T \\Sigma w\n",
    "\\end{align}\n"
   ]
  },
  {
   "cell_type": "code",
   "execution_count": 2,
   "id": "947d3af1-a83a-426b-97f4-1cc2f5bacfb2",
   "metadata": {},
   "outputs": [
    {
     "name": "stdout",
     "output_type": "stream",
     "text": [
      "El retorno de nuestro portafolio es 8.0%\n",
      "La volatilidad de nuestro portafolio es 5.4%\n"
     ]
    }
   ],
   "source": [
    "mu = np.array([.15, .05]).reshape(-1, 1)  # Retornos \n",
    "w = np.array([.3, .7]).reshape(-1, 1)  # Pesos\n",
    "S = np.array([\n",
    "    [.12 ** 2, .002], \n",
    "    [.002, .04 ** 2]]\n",
    ")  # Covarianza\n",
    "\n",
    "mu_p = w.T @ mu\n",
    "sigma_p = np.sqrt(w.T @ S @ w)\n",
    "\n",
    "print(f'El retorno de nuestro portafolio es {round(mu_p.item() * 100, 2)}%')\n",
    "print(f'La volatilidad de nuestro portafolio es {round(sigma_p.item() * 100, 2)}%')"
   ]
  },
  {
   "cell_type": "markdown",
   "id": "b80b93a9-e724-464a-ad56-7747816c797c",
   "metadata": {},
   "source": [
    "### 3. Caso aplicado\n",
    "Veamos ahora como podemos aplicar esto a un dataset real de precios de acciones.\n",
    "\n",
    "El dataset **retornos_etf.csv** contiene los retornos (en exceso a la tasa libre de riesgo) de 11 ETFs:\n",
    "1. iShares Core S&P 500\n",
    "2. iShares MSCI Eurozone\n",
    "3. iShares MSCI United Kingdom\n",
    "4. iShares Latin America 40\n",
    "5. iShares MSCI Japan\n",
    "6. iShares China Large-Cap\n",
    "7. iShares Gold\n",
    "8. iShares Silver\n",
    "9. iShares 7-10 Year Treasury\n",
    "10. iShares TIPS\n",
    "11. iShares iBoxx \\$ Investment Grade"
   ]
  },
  {
   "cell_type": "code",
   "execution_count": 3,
   "id": "36c6945a-9793-41b5-a0c2-9b5d29dc786c",
   "metadata": {},
   "outputs": [
    {
     "name": "stdout",
     "output_type": "stream",
     "text": [
      "El retorno de nuestro portafolio es 6.24%\n",
      "La volatilidad de nuestro portafolio es 14.91%\n"
     ]
    }
   ],
   "source": [
    "import pandas as pd\n",
    "import numpy as np\n",
    "\n",
    "retornos = pd.read_csv('retornos_etf.csv', index_col=0)\n",
    "retornos.index = pd.DatetimeIndex(retornos.index)\n",
    "\n",
    "# Momentos de la distribucion\n",
    "mu = retornos.mean() * 252\n",
    "S = retornos.cov() * 252\n",
    "\n",
    "# En forma de vectores y matrices de numpy\n",
    "mu = mu.values.reshape(-1, 1)\n",
    "S = S.values\n",
    "\n",
    "# Vector de pesos (equiponderado)\n",
    "n = retornos.shape[1]  # Numero de activos\n",
    "w = np.array([1 / n] * n).reshape(-1, 1)\n",
    "\n",
    "# Retorno y Volatilidad del portafolio\n",
    "mu_p = w.T @ mu\n",
    "sigma_p = np.sqrt(w.T @ S @ w)\n",
    "\n",
    "print(f'El retorno de nuestro portafolio es {round(mu_p.item() * 100, 2)}%')\n",
    "print(f'La volatilidad de nuestro portafolio es {round(sigma_p.item() * 100, 2)}%')"
   ]
  }
 ],
 "metadata": {
  "kernelspec": {
   "display_name": "Python 3",
   "language": "python",
   "name": "python3"
  },
  "language_info": {
   "codemirror_mode": {
    "name": "ipython",
    "version": 3
   },
   "file_extension": ".py",
   "mimetype": "text/x-python",
   "name": "python",
   "nbconvert_exporter": "python",
   "pygments_lexer": "ipython3",
   "version": "3.9.1"
  }
 },
 "nbformat": 4,
 "nbformat_minor": 5
}
