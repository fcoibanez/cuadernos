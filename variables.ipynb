{
 "cells": [
  {
   "cell_type": "markdown",
   "id": "92e12123-5b8f-42a2-8363-447bb461d214",
   "metadata": {},
   "source": [
    "# Variables en Python\n",
    "\n",
    "## 1. Que son?\n",
    "- Asocia un nombre simbolico (**etiqueta**) a un valor o informacion\n",
    "- **Ubicacion** especifica en la memoria del PC\n",
    "- Tiene un **peso** asignado"
   ]
  },
  {
   "cell_type": "code",
   "execution_count": 1,
   "id": "595ff1f6-34dd-4b09-bb8b-5b2e8eb4c715",
   "metadata": {},
   "outputs": [
    {
     "name": "stdout",
     "output_type": "stream",
     "text": [
      "3.1\n"
     ]
    }
   ],
   "source": [
    "# Asignamos nuestras variables\n",
    "nota_1 = 6.5\n",
    "nota_2 = 3.1\n",
    "\n",
    "print(nota_2)"
   ]
  },
  {
   "cell_type": "code",
   "execution_count": 2,
   "id": "3a071b19-f1ab-4155-bbeb-74fcd8d11cde",
   "metadata": {},
   "outputs": [
    {
     "name": "stdout",
     "output_type": "stream",
     "text": [
      "4.8\n"
     ]
    }
   ],
   "source": [
    "# Variables pueden ser asignadas a partir de otras variables\n",
    "promedio = (nota_1 + nota_2) / 2\n",
    "\n",
    "print(promedio)"
   ]
  },
  {
   "cell_type": "code",
   "execution_count": 3,
   "id": "9cf5ce67-10d3-459b-b185-f0e663201d68",
   "metadata": {},
   "outputs": [
    {
     "data": {
      "text/plain": [
       "60"
      ]
     },
     "execution_count": 3,
     "metadata": {},
     "output_type": "execute_result"
    }
   ],
   "source": [
    "from sys import getsizeof\n",
    "\n",
    "author = 'Eugene Fama'\n",
    "\n",
    "# La sgte. funcion entrega el peso de una variable (en bytes)\n",
    "getsizeof(author)"
   ]
  },
  {
   "cell_type": "code",
   "execution_count": 4,
   "id": "4e214b17-18b2-4a77-8ffc-63d3bf53d668",
   "metadata": {},
   "outputs": [
    {
     "data": {
      "text/plain": [
       "272"
      ]
     },
     "execution_count": 4,
     "metadata": {},
     "output_type": "execute_result"
    }
   ],
   "source": [
    "quote = ''' \n",
    "Active investment is a zero-sum game. Passive managers don't play the game. \n",
    "They buy something resembling the market as a whole, or some segment of the market, \n",
    "and they don't respond to the actions of active managers. \n",
    "'''\n",
    "\n",
    "getsizeof(quote)"
   ]
  },
  {
   "cell_type": "markdown",
   "id": "eb09854b-e237-4caa-b34c-9baa20e54cb8",
   "metadata": {},
   "source": [
    "## 2. Tipos de variables (*data types*)\n",
    "Los tipos de variables de Python que probablemente mas vamos a utilizar son:\n",
    "1. Strings (texto)\n",
    "2. Int, float (numeros)\n",
    "3. Booleans\n",
    "4. Listas\n",
    "5. Diccionarios\n",
    "\n",
    "Tipos de variable adicionales, incluyen *tuple*, *set*, *range*, entre otros.\n",
    "\n",
    "### 2.1 Strings\n",
    "- Serie de caracteres\n",
    "- Para Python, todo lo que este entre comillas es un string\n",
    "- Las comillas pueden ser simples (') o dobles (\")"
   ]
  },
  {
   "cell_type": "code",
   "execution_count": 5,
   "id": "98061e6e-e461-458b-b189-d64c874fdfef",
   "metadata": {},
   "outputs": [
    {
     "name": "stdout",
     "output_type": "stream",
     "text": [
      "Hello, World !\n"
     ]
    }
   ],
   "source": [
    "# Asignamos un string a una variable\n",
    "saludo = 'Hello, World !'\n",
    "print(saludo)"
   ]
  },
  {
   "cell_type": "code",
   "execution_count": 6,
   "id": "e223bfc4-68bd-48b0-acc0-9ff33d57688f",
   "metadata": {},
   "outputs": [
    {
     "name": "stdout",
     "output_type": "stream",
     "text": [
      "<class 'str'>\n"
     ]
    }
   ],
   "source": [
    "# Veamos el data type de saludo\n",
    "print(type(saludo))"
   ]
  },
  {
   "cell_type": "code",
   "execution_count": 7,
   "id": "7f57e299-6a3c-4505-9a75-14a19d38c9d3",
   "metadata": {},
   "outputs": [
    {
     "name": "stdout",
     "output_type": "stream",
     "text": [
      "14\n"
     ]
    }
   ],
   "source": [
    "# La funcion len() entrega el numero de caracteres en el str\n",
    "print(len(saludo))"
   ]
  },
  {
   "cell_type": "code",
   "execution_count": 8,
   "id": "fe3cb5cc-a345-41a7-b1aa-dbdea58d2b2d",
   "metadata": {},
   "outputs": [
    {
     "name": "stdout",
     "output_type": "stream",
     "text": [
      "Hello, World ! Estoy aprendiendo Python !\n"
     ]
    }
   ],
   "source": [
    "# Suma de strings\n",
    "mensaje = 'Estoy aprendiendo Python !'\n",
    "print ( saludo + ' ' + mensaje )"
   ]
  },
  {
   "cell_type": "code",
   "execution_count": 9,
   "id": "e4652836-b214-4574-83e1-d136409bc546",
   "metadata": {},
   "outputs": [
    {
     "name": "stdout",
     "output_type": "stream",
     "text": [
      "HELLO, WORLD !\n",
      "estoy aprendiendo python !\n"
     ]
    }
   ],
   "source": [
    "# Mayusculas/minusculas (metodos)\n",
    "print(saludo.upper())\n",
    "print(mensaje.lower())"
   ]
  },
  {
   "cell_type": "code",
   "execution_count": 10,
   "id": "cdae22ea-c17c-4174-af40-49ac1393c921",
   "metadata": {},
   "outputs": [
    {
     "name": "stdout",
     "output_type": "stream",
     "text": [
      "Hello, World ! Estoy aprendiendo Python !\n"
     ]
    }
   ],
   "source": [
    "# El uso de estos metodos no redefine las variables\n",
    "print(saludo, mensaje)"
   ]
  },
  {
   "cell_type": "markdown",
   "id": "91d2b80e-cc12-45fe-8598-eb41b45a7b76",
   "metadata": {},
   "source": [
    "<div class=\"alert alert-block alert-info\">\n",
    "<b>Tip:</b> los format strings (denotados por una \"f\" antes de empezar el str) ayudan a\n",
    "parametrizar un string, mientras que podemos usar \"\\n\" para introducir saltos de\n",
    "linea\n",
    "</div>"
   ]
  },
  {
   "cell_type": "code",
   "execution_count": 11,
   "id": "d102ea58-a272-4fd6-ae38-75660466eae4",
   "metadata": {},
   "outputs": [
    {
     "name": "stdout",
     "output_type": "stream",
     "text": [
      "Hola! \n",
      " mi nombre es juan gonzalez\n"
     ]
    }
   ],
   "source": [
    "nombre = 'juan'\n",
    "apellido = 'gonzalez'\n",
    "texto = f'Hola! \\n mi nombre es {nombre} {apellido}'\n",
    "print(texto)"
   ]
  },
  {
   "cell_type": "markdown",
   "id": "7d4c5a27-d9b9-41cc-9ab0-672b80189cfa",
   "metadata": {},
   "source": [
    "### 2.2 Numero enteros\n",
    "- Clase **int**\n",
    "- En Python se pueden sumar (+), restar (-), multiplicar (*), y dividir (/) numeros enteros\n",
    "- Python tambien reconoce el orden de las operaciones matematicas, el que puede ser alterado usando parentesis"
   ]
  },
  {
   "cell_type": "code",
   "execution_count": 12,
   "id": "1207d189-5a79-4c36-85b8-712bd9b182d6",
   "metadata": {},
   "outputs": [
    {
     "name": "stdout",
     "output_type": "stream",
     "text": [
      "5 1 6 1.5\n"
     ]
    }
   ],
   "source": [
    "# Aritmetica\n",
    "print (2 + 3, 3 - 2, 2 * 3, 3 / 2)"
   ]
  },
  {
   "cell_type": "code",
   "execution_count": 13,
   "id": "5dfd8c70-e21c-4512-b6b5-9f0d369ef7fd",
   "metadata": {},
   "outputs": [
    {
     "name": "stdout",
     "output_type": "stream",
     "text": [
      "9 27 1000000\n"
     ]
    }
   ],
   "source": [
    "# Potencias (**)\n",
    "print(3 ** 2, 3 ** 3, 10 ** 6)"
   ]
  },
  {
   "cell_type": "code",
   "execution_count": 14,
   "id": "64dcf99c-841f-414d-a93c-8a71826e4d60",
   "metadata": {},
   "outputs": [
    {
     "data": {
      "text/plain": [
       "14"
      ]
     },
     "execution_count": 14,
     "metadata": {},
     "output_type": "execute_result"
    }
   ],
   "source": [
    "# Orden de operaciones\n",
    "2 + 3 * 4"
   ]
  },
  {
   "cell_type": "code",
   "execution_count": 15,
   "id": "b77b97ff-63d6-4b96-924a-2265cb25013b",
   "metadata": {},
   "outputs": [
    {
     "data": {
      "text/plain": [
       "20"
      ]
     },
     "execution_count": 15,
     "metadata": {},
     "output_type": "execute_result"
    }
   ],
   "source": [
    "# No es lo mismo que:\n",
    "(2 + 3) * 4"
   ]
  },
  {
   "cell_type": "markdown",
   "id": "4cdc315f-7bfa-4bab-9154-81c237d9130c",
   "metadata": {},
   "source": [
    "### 2.3 Numeros decimales\n",
    "- Clase **float**\n",
    "- Corresponde a cualquier numero con decimales en Python\n",
    "- Las operaciones matematicas permitidas son las mismas que en el caso de los enteros (int)"
   ]
  },
  {
   "cell_type": "code",
   "execution_count": 16,
   "id": "8d548bca-37b3-425c-844d-b4fecbafa83c",
   "metadata": {},
   "outputs": [
    {
     "name": "stdout",
     "output_type": "stream",
     "text": [
      "0.2\n",
      "0.2\n"
     ]
    }
   ],
   "source": [
    "# Aritmetica\n",
    "print(0.1 + 0.1)\n",
    "print(2 * 0.1)"
   ]
  },
  {
   "cell_type": "code",
   "execution_count": 17,
   "id": "50665ae1-74f4-4c9f-b4ce-1c7239afa9b7",
   "metadata": {},
   "outputs": [
    {
     "name": "stdout",
     "output_type": "stream",
     "text": [
      "2.0\n"
     ]
    }
   ],
   "source": [
    "# La division de dos numeros siempre entregara un float\n",
    "print(4 / 2)"
   ]
  },
  {
   "cell_type": "code",
   "execution_count": 18,
   "id": "5efc82fd-011f-4073-979c-202a069d0077",
   "metadata": {},
   "outputs": [
    {
     "name": "stdout",
     "output_type": "stream",
     "text": [
      "3.0\n",
      "6.0\n",
      "9.0\n"
     ]
    }
   ],
   "source": [
    "# Asi como combinar int y float entregara un float\n",
    "print(1 + 2.0)\n",
    "print(2 * 3.0)\n",
    "print(3.0 ** 2)"
   ]
  },
  {
   "cell_type": "markdown",
   "id": "b8e359ca-02f2-49ca-bf5f-486760efdc8c",
   "metadata": {},
   "source": [
    "### 2.4 Booleans\n",
    "- Dos valores: **True** y **False**\n",
    "- Resulta de comparar expresiones en Python\n",
    "- Piedra angular de los conditional statements"
   ]
  },
  {
   "cell_type": "code",
   "execution_count": 19,
   "id": "968687c9-b785-44d0-9be4-c584acd03197",
   "metadata": {},
   "outputs": [
    {
     "name": "stdout",
     "output_type": "stream",
     "text": [
      "True\n",
      "False\n",
      "True\n"
     ]
    }
   ],
   "source": [
    "# Comparaciones\n",
    "print(5 < 10)\n",
    "print(5 > 10)\n",
    "print(5 == 5)"
   ]
  },
  {
   "cell_type": "markdown",
   "id": "76ce563f-dee3-42d5-9f8f-e25641c8d4cb",
   "metadata": {},
   "source": [
    "### 2.5 Listas\n",
    "- Una lista es una colleccion de elementos en un orden particular\n",
    "- Listas pueden contener cualquier tipo de variable dentro, incluso otras listas\n",
    "- Para crear una lista se usan **[ ]** y los elementos a contener deben estar separados por comas"
   ]
  },
  {
   "cell_type": "code",
   "execution_count": 20,
   "id": "93ead38c-4762-4fc1-90e8-691a70c8410d",
   "metadata": {},
   "outputs": [
    {
     "name": "stdout",
     "output_type": "stream",
     "text": [
      "<class 'list'>\n"
     ]
    }
   ],
   "source": [
    "# Creemos una lista\n",
    "mi_lista = [1, 'Dos', 3, 'Cuatro']\n",
    "print(type(mi_lista))"
   ]
  },
  {
   "cell_type": "code",
   "execution_count": 21,
   "id": "b311ce77-67c2-4ea0-b27e-62620f95482a",
   "metadata": {},
   "outputs": [
    {
     "ename": "IndexError",
     "evalue": "list index out of range",
     "output_type": "error",
     "traceback": [
      "\u001b[1;31m---------------------------------------------------------------------------\u001b[0m",
      "\u001b[1;31mIndexError\u001b[0m                                Traceback (most recent call last)",
      "\u001b[1;32m<ipython-input-21-be5cdbfcc294>\u001b[0m in \u001b[0;36m<module>\u001b[1;34m\u001b[0m\n\u001b[0;32m      1\u001b[0m \u001b[1;31m# Accediendo al cuarto elemento de mi_lista\u001b[0m\u001b[1;33m\u001b[0m\u001b[1;33m\u001b[0m\u001b[1;33m\u001b[0m\u001b[0m\n\u001b[1;32m----> 2\u001b[1;33m \u001b[0mprint\u001b[0m\u001b[1;33m(\u001b[0m\u001b[0mmi_lista\u001b[0m\u001b[1;33m[\u001b[0m\u001b[1;36m4\u001b[0m\u001b[1;33m]\u001b[0m\u001b[1;33m)\u001b[0m\u001b[1;33m\u001b[0m\u001b[1;33m\u001b[0m\u001b[0m\n\u001b[0m",
      "\u001b[1;31mIndexError\u001b[0m: list index out of range"
     ]
    }
   ],
   "source": [
    "# Accediendo al cuarto elemento de mi_lista\n",
    "print(mi_lista[4])"
   ]
  },
  {
   "cell_type": "markdown",
   "id": "431d26be-dcb2-49c6-9d5d-7b98545dc36e",
   "metadata": {},
   "source": [
    "<div class=\"alert alert-block alert-warning\">\n",
    "<b>Nota:</b> En Python la indexacion comienza con 0 (primer elemento) y termina en N-1 (donde N es el numero de elementos en la lista).\n",
    "</div>"
   ]
  },
  {
   "cell_type": "code",
   "execution_count": 22,
   "id": "2199c258-42c3-4214-b435-df961238ccf9",
   "metadata": {},
   "outputs": [
    {
     "name": "stdout",
     "output_type": "stream",
     "text": [
      "Cuatro\n"
     ]
    }
   ],
   "source": [
    "# Accediendo al cuarto elemento de mi_lista\n",
    "print(mi_lista[3])"
   ]
  },
  {
   "cell_type": "code",
   "execution_count": 23,
   "id": "6df17c6b-1d25-4507-a172-d174e11b34e7",
   "metadata": {},
   "outputs": [
    {
     "name": "stdout",
     "output_type": "stream",
     "text": [
      "['honda', 'yamaha']\n"
     ]
    }
   ],
   "source": [
    "# Anexando elementos\n",
    "motos = []  # Esto crea una lista vacia\n",
    "motos.append('honda')\n",
    "motos.append('yamaha')\n",
    "print(motos)"
   ]
  },
  {
   "cell_type": "code",
   "execution_count": 24,
   "id": "92ff8b43-8adc-4479-a2b2-adb43e8a50d5",
   "metadata": {},
   "outputs": [
    {
     "name": "stdout",
     "output_type": "stream",
     "text": [
      "['honda', 'yamaha', 'ducati']\n"
     ]
    }
   ],
   "source": [
    "# Tambien podemos concatenar listas\n",
    "motos = motos + ['ducati']\n",
    "print(motos)"
   ]
  },
  {
   "cell_type": "code",
   "execution_count": 25,
   "id": "51c45122-13cd-41a9-ad97-737f50bd3fd4",
   "metadata": {},
   "outputs": [
    {
     "name": "stdout",
     "output_type": "stream",
     "text": [
      "['honda', 'ducati']\n"
     ]
    }
   ],
   "source": [
    "# Y remover elementos de la lista\n",
    "motos.remove('yamaha')\n",
    "print(motos)"
   ]
  },
  {
   "cell_type": "code",
   "execution_count": 26,
   "id": "a6a41738-eeb5-4a30-91f8-1c9e29449347",
   "metadata": {},
   "outputs": [
    {
     "name": "stdout",
     "output_type": "stream",
     "text": [
      "['ducati', 'honda', 'suzuki', 'yamaha']\n"
     ]
    }
   ],
   "source": [
    "# Python puede ordernar las listas si es necesario\n",
    "motos = ['yamaha', 'honda', 'ducati', 'suzuki']\n",
    "motos.sort()  # Afecta a la lista permanentemente\n",
    "print(motos)"
   ]
  },
  {
   "cell_type": "code",
   "execution_count": 27,
   "id": "70c2b396-450a-4252-a8a5-e762c9740bde",
   "metadata": {},
   "outputs": [
    {
     "name": "stdout",
     "output_type": "stream",
     "text": [
      "['honda', 'suzuki', 'yamaha']\n"
     ]
    }
   ],
   "source": [
    "# Remover elementos es igual de facil\n",
    "muy_cara = 'ducati'\n",
    "motos.remove(muy_cara)\n",
    "print(motos)"
   ]
  },
  {
   "cell_type": "code",
   "execution_count": 28,
   "id": "425879f2-c140-41fc-9770-8877dcc2f442",
   "metadata": {},
   "outputs": [
    {
     "name": "stdout",
     "output_type": "stream",
     "text": [
      "['suzuki', 'yamaha'] honda\n"
     ]
    }
   ],
   "source": [
    "# Asi como extraer elementos de la lista\n",
    "mi_primera_moto = motos.pop(0)  # Otro efecto permanente\n",
    "print(motos, mi_primera_moto)"
   ]
  },
  {
   "cell_type": "markdown",
   "id": "68ad673f-4bcb-4183-8be1-587fb31e670f",
   "metadata": {},
   "source": [
    "### 2.6 Diccionarios\n",
    "- Un diccionario permite conectar dos piezas de informacion\n",
    "- Por ejemplo, podemos enlazar una lista de palabras y su significado (de ahi su nombre)\n",
    "- De manera bien simple, podemos pensar en diccionarios como listas que tienen un indice determinado que debemos usar para acceder sus elementos\n",
    "- Para crear un diccionario se usan **{ }** y los pares de elementos a contener deben estar separados por comas"
   ]
  },
  {
   "cell_type": "code",
   "execution_count": 29,
   "id": "68f046e4-ffb7-4bfe-838e-7cca2aa44d08",
   "metadata": {},
   "outputs": [
    {
     "name": "stdout",
     "output_type": "stream",
     "text": [
      "6.1\n"
     ]
    }
   ],
   "source": [
    "notas_paula = {'nota_1': 5.5, 'nota_2': 6.1}\n",
    "\n",
    "# Que nota obtuvo Paula en el segundo examen?\n",
    "print(notas_paula['nota_2'])"
   ]
  },
  {
   "cell_type": "code",
   "execution_count": 30,
   "id": "def3db6b-ff5a-4463-a6e8-b9486f30395d",
   "metadata": {},
   "outputs": [
    {
     "name": "stdout",
     "output_type": "stream",
     "text": [
      "5.8\n"
     ]
    }
   ],
   "source": [
    "# Y su promedio?\n",
    "prom = (notas_paula['nota_1'] + notas_paula['nota_2']) / 2\n",
    "print(prom)"
   ]
  },
  {
   "cell_type": "code",
   "execution_count": 31,
   "id": "6dd811ed-3238-482f-a10e-94f47faeaea8",
   "metadata": {},
   "outputs": [
    {
     "name": "stdout",
     "output_type": "stream",
     "text": [
      "{'nota_1': 5.5, 'nota_2': 6.1, 'nota_3': 6.8}\n"
     ]
    }
   ],
   "source": [
    "# Tambien podemos agregar nuevos valores de manera simple\n",
    "notas_paula['nota_3'] = 6.8\n",
    "print(notas_paula)"
   ]
  },
  {
   "cell_type": "code",
   "execution_count": 32,
   "id": "d261b172-950c-4506-b3b5-2e94b14f592d",
   "metadata": {},
   "outputs": [
    {
     "name": "stdout",
     "output_type": "stream",
     "text": [
      "{'Paula': {'nota_1': 5.5, 'nota_2': 6.1, 'nota_3': 6.8}, 'Benjamin': {'nota_1': 4.0, 'nota_2': 5.1, 'nota_3': 5.5}}\n"
     ]
    }
   ],
   "source": [
    "notas_benjamin = {'nota_1': 4.0, 'nota_2': 5.1, 'nota_3': 5.5}\n",
    "\n",
    "notas_curso = {}  # Nueva diccionario vacio\n",
    "notas_curso['Paula'] = notas_paula\n",
    "notas_curso['Benjamin'] = notas_benjamin\n",
    "print(notas_curso)"
   ]
  },
  {
   "cell_type": "code",
   "execution_count": 33,
   "id": "2d149332-61fa-4ff0-ab50-8212554d831b",
   "metadata": {},
   "outputs": [
    {
     "name": "stdout",
     "output_type": "stream",
     "text": [
      "5.1\n"
     ]
    }
   ],
   "source": [
    "print(notas_curso['Benjamin']['nota_2'])"
   ]
  }
 ],
 "metadata": {
  "kernelspec": {
   "display_name": "Python 3",
   "language": "python",
   "name": "python3"
  },
  "language_info": {
   "codemirror_mode": {
    "name": "ipython",
    "version": 3
   },
   "file_extension": ".py",
   "mimetype": "text/x-python",
   "name": "python",
   "nbconvert_exporter": "python",
   "pygments_lexer": "ipython3",
   "version": "3.9.1"
  }
 },
 "nbformat": 4,
 "nbformat_minor": 5
}
