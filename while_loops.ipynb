{
 "cells": [
  {
   "cell_type": "markdown",
   "id": "62c8aea4-9d72-4430-a320-29f9026cffef",
   "metadata": {},
   "source": [
    "# While Loops\n",
    "- Un **for** loop toma una coleccion (e.g. lista) y ejecuta un bloque de codigo para cada uno de los elementos de esta\n",
    "- Por otro lado, un **while** loop va a continuar ejecutando un bloque de codigo mientras se cumpla una condicion (*conditional statement*)"
   ]
  },
  {
   "cell_type": "code",
   "execution_count": 1,
   "id": "330f4280-34a3-4ba2-8169-ac7a4b7a5f46",
   "metadata": {},
   "outputs": [
    {
     "name": "stdout",
     "output_type": "stream",
     "text": [
      "1\n",
      "2\n",
      "3\n",
      "4\n",
      "5\n"
     ]
    }
   ],
   "source": [
    "# Mi primer while loop\n",
    "numero_actual = 1\n",
    "\n",
    "while numero_actual <= 5:\n",
    "    print(numero_actual)\n",
    "    numero_actual += 1"
   ]
  },
  {
   "cell_type": "code",
   "execution_count": 2,
   "id": "adf1afe4-7244-4eaf-8001-d090fe549c8e",
   "metadata": {},
   "outputs": [
    {
     "name": "stdout",
     "output_type": "stream",
     "text": [
      "Dentro del loop\n",
      "Dentro del loop\n",
      "Dentro del loop\n",
      "Dentro del else\n"
     ]
    }
   ],
   "source": [
    "# While loops tambien pueden declarar una clausula Else\n",
    "contador = 0\n",
    "\n",
    "while contador < 3:\n",
    "    print('Dentro del loop')\n",
    "    contador = contador + 1\n",
    "else:\n",
    "    print('Dentro del else')"
   ]
  },
  {
   "cell_type": "markdown",
   "id": "d6e5dd5f-1742-4387-bd0f-32eba3a120ec",
   "metadata": {},
   "source": [
    "<div class=\"alert alert-block alert-warning\">\n",
    "<b>Tips:</b>\n",
    "<ul>\n",
    "  <li>Para salir de un loop inmediatamente, sin correr el resto del codigo dentro de este, podemos usar <b>break<b/></li>\n",
    "  <li>Se puede saltar inmediatamente al comienzo de la siguiente iteracion de un loop con <b>continue</b></li>\n",
    "  <li>La funcion <b>input()</b> permite al usuario del programa introducir algun valor/texto</li>\n",
    "</ul>\n",
    "</div>"
   ]
  },
  {
   "cell_type": "code",
   "execution_count": 3,
   "id": "fc9093b8-f3cb-4096-aa25-14e4654fbf94",
   "metadata": {},
   "outputs": [
    {
     "name": "stdout",
     "output_type": "stream",
     "text": [
      "1\n",
      "3\n",
      "5\n",
      "7\n",
      "9\n",
      "11\n"
     ]
    }
   ],
   "source": [
    "# Controlando el flujo con continue\n",
    "numero_actual = 0\n",
    "\n",
    "while numero_actual <= 10:\n",
    "    numero_actual += 1\n",
    "    if numero_actual % 2 == 0:  # Revisa si es numero par\n",
    "        continue  # Salta a la siguiente iteracion\n",
    "\n",
    "    print(numero_actual)"
   ]
  },
  {
   "cell_type": "code",
   "execution_count": 4,
   "id": "878ecd1c-914a-46d7-9cd4-a9c1f66d06ed",
   "metadata": {},
   "outputs": [
    {
     "name": "stdin",
     "output_type": "stream",
     "text": [
      "\n",
      "Introduzca el nombre de una ciudad visitada:\n",
      "(Introduzca 'salir' para terminar) Santiago\n"
     ]
    },
    {
     "name": "stdout",
     "output_type": "stream",
     "text": [
      "\n",
      "Me encantaria ir a Santiago!\n"
     ]
    },
    {
     "name": "stdin",
     "output_type": "stream",
     "text": [
      "\n",
      "Introduzca el nombre de una ciudad visitada:\n",
      "(Introduzca 'salir' para terminar) New York\n"
     ]
    },
    {
     "name": "stdout",
     "output_type": "stream",
     "text": [
      "\n",
      "Me encantaria ir a New York!\n"
     ]
    },
    {
     "name": "stdin",
     "output_type": "stream",
     "text": [
      "\n",
      "Introduzca el nombre de una ciudad visitada:\n",
      "(Introduzca 'salir' para terminar) salir\n"
     ]
    },
    {
     "name": "stdout",
     "output_type": "stream",
     "text": [
      "Lista final de ciudades por visitar:\n",
      "Santiago\n",
      "New York\n"
     ]
    }
   ],
   "source": [
    "# Algo mas avanzado, pero ilustrativo\n",
    "prompt = \"\\nIntroduzca el nombre de una ciudad visitada:\"\n",
    "prompt += \"\\n(Introduzca 'salir' para terminar)\"\n",
    "mis_ciudades = []  # Iniciamos una lista vacia\n",
    "\n",
    "while True:\n",
    "    ciudad = input(prompt)  # Haciendo interactivo al programa\n",
    "\n",
    "    if ciudad == 'salir':\n",
    "        print('Lista final de ciudades por visitar:')\n",
    "        for c in mis_ciudades:\n",
    "            print(c)\n",
    "\n",
    "        break  # break rompe el loop (for/while)\n",
    "\n",
    "    else:\n",
    "        mis_ciudades.append(ciudad.title())\n",
    "        print(f\"\\nMe encantaria ir a {ciudad.title()}!\")"
   ]
  }
 ],
 "metadata": {
  "kernelspec": {
   "display_name": "Python 3",
   "language": "python",
   "name": "python3"
  },
  "language_info": {
   "codemirror_mode": {
    "name": "ipython",
    "version": 3
   },
   "file_extension": ".py",
   "mimetype": "text/x-python",
   "name": "python",
   "nbconvert_exporter": "python",
   "pygments_lexer": "ipython3",
   "version": "3.9.1"
  }
 },
 "nbformat": 4,
 "nbformat_minor": 5
}
