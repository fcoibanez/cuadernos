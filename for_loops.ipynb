{
 "cells": [
  {
   "cell_type": "markdown",
   "id": "f32bc4cf-8c57-4907-8d66-703b38d95e50",
   "metadata": {},
   "source": [
    "# For Loops\n",
    "- Requieren que se defina una secuencia sobre la cual iterar (ej. listas, diccionarios, strings)\n",
    "- En cada iteracion, un bloque de codigo es aplicado sobre el elemento actual de la sequencia\n",
    "- Esto se repite hasta que la secuencia termina"
   ]
  },
  {
   "cell_type": "code",
   "execution_count": 1,
   "id": "f24b86a5-aa29-452e-a87a-943db628a282",
   "metadata": {},
   "outputs": [
    {
     "name": "stdout",
     "output_type": "stream",
     "text": [
      "alicia\n",
      "david\n",
      "carolina\n"
     ]
    }
   ],
   "source": [
    "# Hacer esto:\n",
    "magos = ['alicia', 'david', 'carolina']\n",
    "print(magos[0])\n",
    "print(magos[1])\n",
    "print(magos[2])"
   ]
  },
  {
   "cell_type": "code",
   "execution_count": 2,
   "id": "c57b8297-bc6b-4c70-b6d1-a5a42325cbf8",
   "metadata": {},
   "outputs": [
    {
     "name": "stdout",
     "output_type": "stream",
     "text": [
      "alicia\n",
      "david\n",
      "carolina\n"
     ]
    }
   ],
   "source": [
    "# Es lo mismo que este loop!\n",
    "magos = ['alicia', 'david', 'carolina']\n",
    "\n",
    "for m in magos:\n",
    "    print(m)"
   ]
  },
  {
   "cell_type": "markdown",
   "id": "1aa1ea57-48e7-4bd0-a8d4-eae8afc60956",
   "metadata": {
    "tags": []
   },
   "source": [
    "<div class=\"alert alert-block alert-warning\">\n",
    "<b>Observaciones:</b>\n",
    "<ol>\n",
    "  <li>Esto se repite sin importar el numero de elementos (aunque tengamos un millon de elementos!)</li>\n",
    "  <li>La eleccion del nombre de la variable temporal del loop (\"m\" en nuestro ejemplo) es irrelevante para el computador, pero definir un nombre relevante puede facilitar la lectura del codigo</li>\n",
    "  <li>Loops dentro de loops? Sin problemas</li>\n",
    "</ol>\n",
    "</div>"
   ]
  },
  {
   "cell_type": "code",
   "execution_count": 3,
   "id": "bf7a7b66-c04f-443c-bdce-4cd4c93733fa",
   "metadata": {},
   "outputs": [
    {
     "name": "stdout",
     "output_type": "stream",
     "text": [
      "Alicia, ese truco de magia estuvo muy bueno!\n",
      "David, ese truco de magia estuvo muy bueno!\n",
      "Carolina, ese truco de magia estuvo muy bueno!\n",
      "\n",
      "Gracias a todos, este fue un gran show!\n"
     ]
    }
   ],
   "source": [
    "# Expandiendo sobre el ejemplo anterior\n",
    "magos = ['alicia', 'david', 'carolina']\n",
    "\n",
    "for m in magos:\n",
    "    print(f'{m.title()}, ese truco de magia estuvo muy bueno!') \n",
    "\n",
    "print('\\nGracias a todos, este fue un gran show!')"
   ]
  },
  {
   "cell_type": "markdown",
   "id": "54e88556-072e-4811-af7d-f87fa27cc2d6",
   "metadata": {},
   "source": [
    "<div class=\"alert alert-block alert-info\">\n",
    "<b>Tip:</b> Python usa la indentacion (sangria) para determinar como una linea o un grupo de lineas esta relacionado con el resto del programa.\n",
    "</div>"
   ]
  },
  {
   "cell_type": "code",
   "execution_count": 4,
   "id": "4c4808cd-2acd-4394-a889-e3bb27a87fe6",
   "metadata": {},
   "outputs": [
    {
     "name": "stdout",
     "output_type": "stream",
     "text": [
      "1\n",
      "2\n",
      "3\n",
      "4\n"
     ]
    }
   ],
   "source": [
    "for valor in range(1, 5):\n",
    "    print(valor)"
   ]
  },
  {
   "cell_type": "markdown",
   "id": "2a00fd1d-fc45-4782-bd12-24bfe36582d2",
   "metadata": {},
   "source": [
    "<div class=\"alert alert-block alert-warning\">\n",
    "<b>Observacion:</b> Hay que tener en cuenta que el limite superior del rango no va a formar parte de la serie de numeros entregada.\n",
    "</div>"
   ]
  },
  {
   "cell_type": "code",
   "execution_count": 5,
   "id": "ff8219a5-1ff2-4386-962e-26fa09e86e9c",
   "metadata": {},
   "outputs": [
    {
     "name": "stdout",
     "output_type": "stream",
     "text": [
      "range(0, 5)\n"
     ]
    }
   ],
   "source": [
    "# Especificar el limite inferior no es requerido\n",
    "numeros = range(5)\n",
    "print(numeros)"
   ]
  },
  {
   "cell_type": "code",
   "execution_count": 6,
   "id": "919eab52-5afd-4894-9ae4-13ed5678402c",
   "metadata": {},
   "outputs": [
    {
     "name": "stdout",
     "output_type": "stream",
     "text": [
      "<class 'range'>\n"
     ]
    }
   ],
   "source": [
    "# El resultado de range() no es una lista...\n",
    "print(type(numeros))"
   ]
  },
  {
   "cell_type": "code",
   "execution_count": 7,
   "id": "0eb0d1d2-f582-4774-ab71-730cd1fbe9fe",
   "metadata": {},
   "outputs": [
    {
     "name": "stdout",
     "output_type": "stream",
     "text": [
      "[2, 4, 6, 8, 10]\n"
     ]
    }
   ],
   "source": [
    "# ...pero puede ser transformado en una\n",
    "numeros_pares = list(range(2, 11, 2))\n",
    "print(numeros_pares)"
   ]
  },
  {
   "cell_type": "code",
   "execution_count": 8,
   "id": "4b4cdaca-ae10-4bb4-8b69-46d68fe30244",
   "metadata": {},
   "outputs": [
    {
     "name": "stdout",
     "output_type": "stream",
     "text": [
      "[1, 4, 9, 16, 25, 36, 49, 64, 81, 100]\n"
     ]
    }
   ],
   "source": [
    "# En Python, dos asteriscos equivalen a elevar al cuadrado\n",
    "cuadrados = []\n",
    "for valor in range(1, 11):\n",
    "    valor_cuadrado = valor ** 2\n",
    "    cuadrados.append(valor_cuadrado)\n",
    "\n",
    "print(cuadrados)"
   ]
  },
  {
   "cell_type": "markdown",
   "id": "6cc0f8a2-52cc-42a9-a131-19eaa3809682",
   "metadata": {},
   "source": [
    "<div class=\"alert alert-block alert-info\">\n",
    "<b>Tip:</b> Python tambien ofrece una sintaxis para generar el mismo resultado, pero en una sola linea con list comprehension.</div>"
   ]
  },
  {
   "cell_type": "code",
   "execution_count": 9,
   "id": "dc9f13b4-c46f-45a8-8a21-c6cadec87d37",
   "metadata": {},
   "outputs": [
    {
     "name": "stdout",
     "output_type": "stream",
     "text": [
      "[1, 4, 9, 16, 25, 36, 49, 64, 81, 100]\n"
     ]
    }
   ],
   "source": [
    "# Replicando con list comprehension\n",
    "cuadrados = [valor ** 2 for valor in range(1, 11)]\n",
    "\n",
    "print(cuadrados)"
   ]
  }
 ],
 "metadata": {
  "kernelspec": {
   "display_name": "Python 3",
   "language": "python",
   "name": "python3"
  },
  "language_info": {
   "codemirror_mode": {
    "name": "ipython",
    "version": 3
   },
   "file_extension": ".py",
   "mimetype": "text/x-python",
   "name": "python",
   "nbconvert_exporter": "python",
   "pygments_lexer": "ipython3",
   "version": "3.9.1"
  }
 },
 "nbformat": 4,
 "nbformat_minor": 5
}
