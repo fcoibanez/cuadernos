{
 "cells": [
  {
   "cell_type": "markdown",
   "id": "b0f8491c-5932-46c4-a336-806e9f6ebf6d",
   "metadata": {},
   "source": [
    "# Introduccion a NumPy\n",
    "- De manera nativa, Python puede manejar operaciones matematicas elementales (i.e. aritmetica)\n",
    "- Si queremos dar el siguiente paso y realizar operaciones mas avanzadas, necesitamos utilizar un paquete externo\n",
    "- NumPy es una libreria ampliamente utilizada que nos permite realizar computacion cientifica en Python\n",
    "\n",
    "### 1. Primeros Pasos\n",
    "#### 1.1 Usos en Finanzas\n",
    "NumPy tiene multiples usos en finanzas, incluyendo:\n",
    "- Algebra lineal $\\rightarrow$ Portfolio management, analisis factorial\n",
    "- Muestreo aleatorio $\\rightarrow$ Simulaciones de Monte Carlo\n",
    "- Interpolacion polinomica $\\rightarrow$ Estructura de tasas de interes\n",
    "- Transformada de Fourier $\\rightarrow$ Valorizacion de opciones\n",
    "\n",
    "#### 1.2 Como importar?\n",
    "- Podemos utilizar funciones que son partes de paquetes desarrollados por la comunidad por medio del comando **import** \n",
    "- Esto asume que el paquete/libreria ya esta instalada en nuestro ambiente de Python\n",
    "- El programa podria hacer uso de las funciones dentro del paquete por medio de **paquete.funcion()**\n",
    "- Tambien podemos definir un alias (mas corto) para el paquete por medio de import paquete **as** *alias*\n",
    "\n",
    "#### 1.3 Mis Primero Arrays\n",
    "- Los ndarray son la piedra angular de NumPy\n",
    "- Son un arreglo de datos sobre el cual se pueden realizar operaciones matem\u0013aticas\n",
    "- Son creados usando la funcion array()"
   ]
  },
  {
   "cell_type": "code",
   "execution_count": 1,
   "id": "7e6ce193-e183-44ca-9548-16108cec2ca3",
   "metadata": {},
   "outputs": [
    {
     "data": {
      "text/plain": [
       "numpy.ndarray"
      ]
     },
     "execution_count": 1,
     "metadata": {},
     "output_type": "execute_result"
    }
   ],
   "source": [
    "import numpy as np\n",
    "\n",
    "# Los ndarray pueden ser creados pasando listas o tuples\n",
    "v1 = np. array ([1 , 2, 3])\n",
    "\n",
    "type (v1)"
   ]
  },
  {
   "cell_type": "code",
   "execution_count": 2,
   "id": "e97fb1d2-d369-4749-8ee3-b2ba26832ff2",
   "metadata": {},
   "outputs": [
    {
     "name": "stdout",
     "output_type": "stream",
     "text": [
      "0\n",
      "1\n",
      "2\n",
      "3\n"
     ]
    }
   ],
   "source": [
    " # Los array pueden tener cualquier numero de dimnesiones\n",
    "import numpy as np\n",
    "\n",
    "escalar = np.array (1)\n",
    "vector = np.array ([1 , 2, 3])\n",
    "matrix_2d = np.array ([[1 , 2, 3], [4, 5, 6]])\n",
    "matrix_3d = np.array ([[[1 , 2, 3], [4, 5, 6]] , [[1 , 2, 3], [4, 5, 6]]])\n",
    "\n",
    "print(escalar.ndim )\n",
    "print(vector.ndim )\n",
    "print(matrix_2d.ndim )\n",
    "print(matrix_3d.ndim )"
   ]
  },
  {
   "cell_type": "markdown",
   "id": "98d5d9fe-25e5-49f3-b2b6-878133e47d07",
   "metadata": {},
   "source": [
    "#### 1.4 Indexacion\n",
    "Se puede acceder, utilizar, y modicar las entradas de los array usando la misma indexacion que listas y tuples."
   ]
  },
  {
   "cell_type": "code",
   "execution_count": 10,
   "id": "5471468b-4d86-4abb-8541-fee5a6c47036",
   "metadata": {},
   "outputs": [
    {
     "name": "stdout",
     "output_type": "stream",
     "text": [
      "9\n"
     ]
    }
   ],
   "source": [
    "v1 = np.array([1, 2, 3, 4, 5])\n",
    "\n",
    "print(v1[4] + v1[3])"
   ]
  },
  {
   "cell_type": "code",
   "execution_count": 4,
   "id": "ec3871b1-51bd-44b9-a56b-a7a1f6a3af75",
   "metadata": {},
   "outputs": [
    {
     "name": "stdout",
     "output_type": "stream",
     "text": [
      "9\n"
     ]
    }
   ],
   "source": [
    "print(v1[-1] + v1[-2])"
   ]
  },
  {
   "cell_type": "code",
   "execution_count": 9,
   "id": "62afd251-35bd-4d7a-8579-a9e130224860",
   "metadata": {},
   "outputs": [
    {
     "name": "stdout",
     "output_type": "stream",
     "text": [
      "[[1 2 3]\n",
      " [4 5 6]\n",
      " [7 8 9]]\n"
     ]
    }
   ],
   "source": [
    "'''\n",
    "En el caso de matrices, se sigue la misma convencion que en \n",
    "algebra lineal (fila, columna).\n",
    "'''\n",
    "\n",
    "m1 = np.array([[1, 2, 3], [4, 5, 6], [7, 8, 9]])\n",
    "\n",
    "print(m1)"
   ]
  },
  {
   "cell_type": "code",
   "execution_count": 8,
   "id": "6534748f-6bda-4382-a438-8ba1187cb0df",
   "metadata": {},
   "outputs": [
    {
     "data": {
      "text/plain": [
       "9"
      ]
     },
     "execution_count": 8,
     "metadata": {},
     "output_type": "execute_result"
    }
   ],
   "source": [
    "m1[2, -1]  # Accediendo entrada (3, 3) de la matriz"
   ]
  },
  {
   "cell_type": "markdown",
   "id": "b6368b13-33ed-4fb0-a3c1-cccb52e0fb86",
   "metadata": {},
   "source": [
    "#### 1.5 Slicing\n",
    "Al igual que en listas y tuples, se puede realizar slicing sobre arrays para acceder a segmentos\n",
    "dentro de estos."
   ]
  },
  {
   "cell_type": "code",
   "execution_count": 11,
   "id": "f9ecf2db-0e3b-4efb-b687-0e6654d5d331",
   "metadata": {},
   "outputs": [
    {
     "name": "stdout",
     "output_type": "stream",
     "text": [
      "[7 8 9]\n"
     ]
    }
   ],
   "source": [
    "v1 = np.array(range(10))\n",
    "\n",
    "print(v1[-3:])  # Desde la antepenultima entrada en adelante"
   ]
  },
  {
   "cell_type": "code",
   "execution_count": 12,
   "id": "3fc6e46a-fdcf-4035-a1f8-3b5a419ac061",
   "metadata": {},
   "outputs": [
    {
     "name": "stdout",
     "output_type": "stream",
     "text": [
      "[2 3 4 5]\n"
     ]
    }
   ],
   "source": [
    "print(v1[2:6])"
   ]
  },
  {
   "cell_type": "markdown",
   "id": "4d471212-3b4f-45cd-902b-f71db69b6611",
   "metadata": {},
   "source": [
    "### 2. Generacion de Numeros Aleatorios\n",
    "NumPy contiene un amplio modulo de generacion de numeros pseudo-aleatorios (numpy.random), que incluye funciones como:\n",
    "- **numpy.random.rand()**: devuelve **float** aleatorios provenientes de una distribucion uniforme \\[0, 1)\n",
    "- **numpy.random.randint()**: devuleve **int** aleatorios entre dos limites\n",
    "- **numpy.random.randn()**: devuelve **float** aleatorios provenientes de una distribucion normal estandar ($\\sim \\mathcal{N}(0, 1)$)"
   ]
  },
  {
   "cell_type": "code",
   "execution_count": 18,
   "id": "940c1f6b-c9b6-47d5-92a5-e63c3a612746",
   "metadata": {},
   "outputs": [
    {
     "data": {
      "image/png": "[encoded data removed]",
      "text/plain": [
       "<Figure size 432x288 with 1 Axes>"
      ]
     },
     "metadata": {
      "needs_background": "light"
     },
     "output_type": "display_data"
    }
   ],
   "source": [
    "import numpy as np\n",
    "import matplotlib.pyplot as plt\n",
    "\n",
    "# Creemos una pequena muestra\n",
    "muestra = np.random.randn(10)\n",
    "plt.hist(muestra)  # Creamos un histograma\n",
    "plt.show()"
   ]
  },
  {
   "cell_type": "code",
   "execution_count": 19,
   "id": "3488edaa-f8e5-4892-afa4-959ad2428734",
   "metadata": {},
   "outputs": [
    {
     "data": {
      "image/png": "[encoded data removed]",
      "text/plain": [
       "<Figure size 432x288 with 1 Axes>"
      ]
     },
     "metadata": {
      "needs_background": "light"
     },
     "output_type": "display_data"
    }
   ],
   "source": [
    "import numpy as np\n",
    "import matplotlib.pyplot as plt\n",
    "\n",
    "# Creemos una muestra mas grande\n",
    "muestra = np.random.randn(1000000)  # <--------\n",
    "plt.hist(muestra)  # Creamos un histograma\n",
    "plt.show()"
   ]
  },
  {
   "cell_type": "markdown",
   "id": "0abe735e-2d95-47c8-a875-b15e538ecdb3",
   "metadata": {},
   "source": [
    "### 3. Algebra Lineal\n",
    "#### 3.1 Vectores y Matrices\n",
    "Al trabajar con vectores, primero nos tenemos que asegurar que su forma\n",
    "es de $N\\times 1$:"
   ]
  },
  {
   "cell_type": "code",
   "execution_count": 20,
   "id": "c51c4510-1fcc-4b33-91ef-8edae6e6c011",
   "metadata": {},
   "outputs": [
    {
     "name": "stdout",
     "output_type": "stream",
     "text": [
      "[[1]\n",
      " [2]\n",
      " [3]]\n"
     ]
    }
   ],
   "source": [
    "import numpy as np\n",
    "\n",
    "v1 = np.array([1, 2, 3]).reshape(-1, 1)  # -1: wildcard (N)\n",
    "print(v1)"
   ]
  },
  {
   "cell_type": "code",
   "execution_count": 22,
   "id": "66b9e4ea-42cd-46b5-b8c8-ddc8823c4328",
   "metadata": {},
   "outputs": [
    {
     "name": "stdout",
     "output_type": "stream",
     "text": [
      "(3, 1)\n"
     ]
    }
   ],
   "source": [
    "print(v1.shape)  # Dimensiones del vector"
   ]
  },
  {
   "cell_type": "code",
   "execution_count": 23,
   "id": "a19113c4-1710-4bc1-9f97-9606cd6b29ad",
   "metadata": {},
   "outputs": [
    {
     "name": "stdout",
     "output_type": "stream",
     "text": [
      "[[1 2 3]]\n"
     ]
    }
   ],
   "source": [
    "v1_T = v1.T  # Transponemos con .T\n",
    "print(v1_T)"
   ]
  },
  {
   "cell_type": "code",
   "execution_count": 25,
   "id": "8d68ddc3-70c6-4fd2-bf01-a610dc8e640d",
   "metadata": {},
   "outputs": [
    {
     "name": "stdout",
     "output_type": "stream",
     "text": [
      "[[1 2 3]\n",
      " [4 5 6]\n",
      " [7 8 9]]\n"
     ]
    }
   ],
   "source": [
    "# Ahora creemos una matriz!\n",
    "m1 = np.array([[1, 2, 3], [4, 5, 6], [7, 8, 9]])\n",
    "print(m1)"
   ]
  },
  {
   "cell_type": "code",
   "execution_count": 26,
   "id": "a715966d-bdd1-4c65-a27b-079476ab1a56",
   "metadata": {},
   "outputs": [
    {
     "name": "stdout",
     "output_type": "stream",
     "text": [
      "[[1 4 7]\n",
      " [2 5 8]\n",
      " [3 6 9]]\n"
     ]
    }
   ],
   "source": [
    "m1_T = m1.T\n",
    "print(m1_T)"
   ]
  },
  {
   "cell_type": "markdown",
   "id": "4ecee2f6-caff-41c9-a974-abe54d993457",
   "metadata": {},
   "source": [
    "#### 3.2 Multiplicando Matrices\n",
    "En NumPy, las multiplicaciones de matrices se llevan a cabo con el operador **@**."
   ]
  },
  {
   "cell_type": "code",
   "execution_count": 27,
   "id": "d2797c9c-774f-4a37-b08f-05891e8066c8",
   "metadata": {},
   "outputs": [
    {
     "name": "stdout",
     "output_type": "stream",
     "text": [
      "[[14]]\n"
     ]
    }
   ],
   "source": [
    "print(v1.T @ v1)"
   ]
  },
  {
   "cell_type": "code",
   "execution_count": 28,
   "id": "0d69d11d-e242-462b-a10a-9671a078bbca",
   "metadata": {},
   "outputs": [
    {
     "name": "stdout",
     "output_type": "stream",
     "text": [
      "[[ 66  78  90]\n",
      " [ 78  93 108]\n",
      " [ 90 108 126]]\n"
     ]
    }
   ],
   "source": [
    "print(m1.T @ m1)"
   ]
  },
  {
   "cell_type": "code",
   "execution_count": 29,
   "id": "97aa5e2b-b38e-4987-8261-39b03249775d",
   "metadata": {},
   "outputs": [
    {
     "name": "stdout",
     "output_type": "stream",
     "text": [
      "[[14]\n",
      " [32]\n",
      " [50]]\n"
     ]
    }
   ],
   "source": [
    "print(m1 @ v1)  # La forma de las matrices debe coincidir"
   ]
  },
  {
   "cell_type": "code",
   "execution_count": 30,
   "id": "e24dba51-46df-4268-b7be-8dc5961af02d",
   "metadata": {},
   "outputs": [
    {
     "ename": "ValueError",
     "evalue": "matmul: Input operand 1 has a mismatch in its core dimension 0, with gufunc signature (n?,k),(k,m?)->(n?,m?) (size 3 is different from 1)",
     "output_type": "error",
     "traceback": [
      "\u001b[1;31m---------------------------------------------------------------------------\u001b[0m",
      "\u001b[1;31mValueError\u001b[0m                                Traceback (most recent call last)",
      "\u001b[1;32m<ipython-input-30-a19700594553>\u001b[0m in \u001b[0;36m<module>\u001b[1;34m\u001b[0m\n\u001b[0;32m      1\u001b[0m \u001b[1;31m# De lo contrario...\u001b[0m\u001b[1;33m\u001b[0m\u001b[1;33m\u001b[0m\u001b[1;33m\u001b[0m\u001b[0m\n\u001b[1;32m----> 2\u001b[1;33m \u001b[0mprint\u001b[0m\u001b[1;33m(\u001b[0m\u001b[0mv1\u001b[0m \u001b[1;33m@\u001b[0m \u001b[0mm1\u001b[0m\u001b[1;33m)\u001b[0m\u001b[1;33m\u001b[0m\u001b[1;33m\u001b[0m\u001b[0m\n\u001b[0m",
      "\u001b[1;31mValueError\u001b[0m: matmul: Input operand 1 has a mismatch in its core dimension 0, with gufunc signature (n?,k),(k,m?)->(n?,m?) (size 3 is different from 1)"
     ]
    }
   ],
   "source": [
    "# De lo contrario...\n",
    "print(v1 @ m1)"
   ]
  }
 ],
 "metadata": {
  "kernelspec": {
   "display_name": "Python 3",
   "language": "python",
   "name": "python3"
  },
  "language_info": {
   "codemirror_mode": {
    "name": "ipython",
    "version": 3
   },
   "file_extension": ".py",
   "mimetype": "text/x-python",
   "name": "python",
   "nbconvert_exporter": "python",
   "pygments_lexer": "ipython3",
   "version": "3.9.1"
  }
 },
 "nbformat": 4,
 "nbformat_minor": 5
}
