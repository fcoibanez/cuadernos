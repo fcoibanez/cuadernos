{
 "cells": [
  {
   "cell_type": "markdown",
   "id": "15a5a8b1-c7e5-45de-8585-96cdc7f66190",
   "metadata": {},
   "source": [
    "# Funciones\n",
    "- Una funcion es un bloque de codigo reutilizable disenado para cumplir una tarea especifica\n",
    "- Puede recibir argumentos (o no) para lograr distintos resultados\n",
    "- Python reconoce la creacion de una funcion por medio del keyword **def**\n",
    "\n",
    "### 1. Mi primera funcion"
   ]
  },
  {
   "cell_type": "code",
   "execution_count": 1,
   "id": "0b48b948-ac46-4c99-97cf-d06d449374b3",
   "metadata": {},
   "outputs": [
    {
     "name": "stdout",
     "output_type": "stream",
     "text": [
      "Hola!\n"
     ]
    }
   ],
   "source": [
    "# Mi primera funcion\n",
    "def saluda_usuario():  # Sin argumentos!\n",
    "    print('Hola!')\n",
    "\n",
    "saluda_usuario()  # Llamemos a la funcion con parentesis"
   ]
  },
  {
   "cell_type": "markdown",
   "id": "0a5672de-1613-4648-9260-ba85295be698",
   "metadata": {},
   "source": [
    "<div class=\"alert alert-block alert-warning\">\n",
    "<b>Nota:</b> Los parentesis al final son importantes al llamar la funcion.\n",
    "</div>"
   ]
  },
  {
   "cell_type": "code",
   "execution_count": 2,
   "id": "4c25d36d-f54a-4f70-98f1-fdadcc15553c",
   "metadata": {},
   "outputs": [
    {
     "data": {
      "text/plain": [
       "<function __main__.saluda_usuario()>"
      ]
     },
     "execution_count": 2,
     "metadata": {},
     "output_type": "execute_result"
    }
   ],
   "source": [
    "saluda_usuario  # Y los parentesis?"
   ]
  },
  {
   "cell_type": "markdown",
   "id": "66434bc8-e1c8-42fd-8aa8-2f08d7c0e264",
   "metadata": {},
   "source": [
    "### 2. Argumentos"
   ]
  },
  {
   "cell_type": "code",
   "execution_count": 3,
   "id": "729566af-3b6c-4c3b-8d18-4039a189889c",
   "metadata": {},
   "outputs": [
    {
     "name": "stdout",
     "output_type": "stream",
     "text": [
      "Hola Pepe!\n"
     ]
    }
   ],
   "source": [
    "# Mi segunda funcion\n",
    "def saluda_usuario(nombre):  # Ahora definimos argumentos\n",
    "    print(f'Hola {nombre.title()}!')\n",
    "\n",
    "saluda_usuario(nombre='pepe')  # Le pasamos el argumento a la funcion"
   ]
  },
  {
   "cell_type": "code",
   "execution_count": 4,
   "id": "770ba17b-86ff-4b74-aabf-b019b7dfb785",
   "metadata": {},
   "outputs": [
    {
     "name": "stdout",
     "output_type": "stream",
     "text": [
      "\n",
      "Yo tengo un hamster.\n",
      "Mi hamster se llama Harry.\n"
     ]
    }
   ],
   "source": [
    "def describir_mascota(especie, nombre):\n",
    "    # Muestra informacion sobre una mascota\n",
    "    print(f'\\nYo tengo un {especie}.')\n",
    "    print(f'Mi {especie} se llama {nombre.title()}.')\n",
    "\n",
    "describir_mascota('hamster', 'harry')  # Argumentos posicionales"
   ]
  },
  {
   "cell_type": "code",
   "execution_count": 5,
   "id": "aa9a06cb-53db-48c1-a80d-a70f149f0257",
   "metadata": {},
   "outputs": [
    {
     "name": "stdout",
     "output_type": "stream",
     "text": [
      "\n",
      "Yo tengo un hamster.\n",
      "Mi hamster se llama Harry.\n"
     ]
    }
   ],
   "source": [
    "describir_mascota(nombre='harry', especie='hamster')  # Pasando como keywords"
   ]
  },
  {
   "cell_type": "markdown",
   "id": "e14ec4a4-d6f2-4790-9be7-909274917888",
   "metadata": {},
   "source": [
    "<div class=\"alert alert-block alert-warning\">\n",
    "<b>Nota:</b> Si una funcion tiene argumentos definidos, no pasarlos al llamar la funcion terminara en un error.\n",
    "</div>"
   ]
  },
  {
   "cell_type": "code",
   "execution_count": 6,
   "id": "877acc44-1833-4b46-ac31-53e165784fcf",
   "metadata": {},
   "outputs": [
    {
     "ename": "TypeError",
     "evalue": "describir_mascota() missing 2 required positional arguments: 'especie' and 'nombre'",
     "output_type": "error",
     "traceback": [
      "\u001b[1;31m---------------------------------------------------------------------------\u001b[0m",
      "\u001b[1;31mTypeError\u001b[0m                                 Traceback (most recent call last)",
      "\u001b[1;32m<ipython-input-6-f8ddb4a5e6d1>\u001b[0m in \u001b[0;36m<module>\u001b[1;34m\u001b[0m\n\u001b[1;32m----> 1\u001b[1;33m \u001b[0mdescribir_mascota\u001b[0m\u001b[1;33m(\u001b[0m\u001b[1;33m)\u001b[0m\u001b[1;33m\u001b[0m\u001b[1;33m\u001b[0m\u001b[0m\n\u001b[0m",
      "\u001b[1;31mTypeError\u001b[0m: describir_mascota() missing 2 required positional arguments: 'especie' and 'nombre'"
     ]
    }
   ],
   "source": [
    "describir_mascota()"
   ]
  },
  {
   "cell_type": "code",
   "execution_count": 7,
   "id": "12df466f-04b5-4fbe-adf2-32505a6ca3e9",
   "metadata": {},
   "outputs": [
    {
     "name": "stdout",
     "output_type": "stream",
     "text": [
      "\n",
      "Yo tengo un perro.\n",
      "Mi perro se llama Cachupin.\n"
     ]
    }
   ],
   "source": [
    "def describir_mascota(especie='perro', nombre='cachupin'):\n",
    "    # Muestra informacion sobre una mascota\n",
    "    print(f'\\nYo tengo un {especie}.')\n",
    "    print(f'Mi {especie} se llama {nombre.title()}.')\n",
    "\n",
    "describir_mascota()"
   ]
  },
  {
   "cell_type": "code",
   "execution_count": 8,
   "id": "4705eb17-183a-4c35-bfaf-7b3729af82bd",
   "metadata": {},
   "outputs": [
    {
     "name": "stdout",
     "output_type": "stream",
     "text": [
      "\n",
      "Yo tengo un gato.\n",
      "Mi gato se llama Cachupin.\n"
     ]
    }
   ],
   "source": [
    "describir_mascota(especie='gato')  # Pasando un solo argumento"
   ]
  },
  {
   "cell_type": "markdown",
   "id": "6c2ee672-8aa2-4e50-9167-76787a986e97",
   "metadata": {},
   "source": [
    "### 3. Return\n",
    "- Una funcion no siempre tiene que mostrar el resultado directamente, sino que puede procesar datos y devolver (**return**) un resultado\n",
    "- Return toma un valor dentro de la funcion y lo entrega como *output* de esta para que pueda ser utilizada por otros segmentos del programa\n",
    "- Una funcion puede devolver (y aceptar como argumentos) cualquier tipo de variable, incluyendo estructuras mas complicadas como diccionarios y listas"
   ]
  },
  {
   "cell_type": "code",
   "execution_count": 9,
   "id": "b819f59a-0398-44f8-8f23-b6e69a7b3cae",
   "metadata": {},
   "outputs": [
    {
     "name": "stdout",
     "output_type": "stream",
     "text": [
      "12\n"
     ]
    }
   ],
   "source": [
    "def potencia(numero, n):\n",
    "    resultado = numero ** n\n",
    "    return resultado\n",
    "\n",
    "valor_1 = potencia(2, 2)\n",
    "valor_2 = potencia(2, 3)\n",
    "print(valor_1 + valor_2)"
   ]
  },
  {
   "cell_type": "code",
   "execution_count": 10,
   "id": "72916981-76fc-43d5-bcb2-ff2cb40c0fe1",
   "metadata": {},
   "outputs": [
    {
     "name": "stdout",
     "output_type": "stream",
     "text": [
      "\n",
      "Por favor dime tu nombre...\n",
      "(entra 'salir' para terminar)\n"
     ]
    },
    {
     "name": "stdin",
     "output_type": "stream",
     "text": [
      "Nombre:  Jose\n",
      "Apellido:  Gonzalez\n"
     ]
    },
    {
     "name": "stdout",
     "output_type": "stream",
     "text": [
      "\n",
      "Hola , Jose Gonzalez!\n",
      "\n",
      "Por favor dime tu nombre...\n",
      "(entra 'salir' para terminar)\n"
     ]
    },
    {
     "name": "stdin",
     "output_type": "stream",
     "text": [
      "Nombre:  salir\n"
     ]
    }
   ],
   "source": [
    "def formatea_nombre(nombre, apellido):\n",
    "    nombre_completo = f'{nombre} {apellido}'\n",
    "    return nombre_completo.title()\n",
    "\n",
    "while True:\n",
    "    print('\\nPor favor dime tu nombre...')\n",
    "    print(\"(entra 'salir' para terminar)\")\n",
    "\n",
    "    nom = input('Nombre: ')\n",
    "    if nom == 'salir':\n",
    "        break\n",
    "\n",
    "    ape = input('Apellido: ')\n",
    "    if ape == 'salir':\n",
    "        break\n",
    "\n",
    "    nombre = formatea_nombre(nombre=nom, apellido=ape)\n",
    "    print(f'\\nHola , {nombre}!')"
   ]
  }
 ],
 "metadata": {
  "kernelspec": {
   "display_name": "Python 3",
   "language": "python",
   "name": "python3"
  },
  "language_info": {
   "codemirror_mode": {
    "name": "ipython",
    "version": 3
   },
   "file_extension": ".py",
   "mimetype": "text/x-python",
   "name": "python",
   "nbconvert_exporter": "python",
   "pygments_lexer": "ipython3",
   "version": "3.9.1"
  }
 },
 "nbformat": 4,
 "nbformat_minor": 5
}
