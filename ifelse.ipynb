{
 "cells": [
  {
   "cell_type": "markdown",
   "id": "8a45553c-7987-4b7f-a5dc-d4d28cc62ba9",
   "metadata": {},
   "source": [
    "# Conditional Statements\n",
    "Al igual que en otros lenguajes, Python permite realizar pruebas de logicas:\n",
    "- Es igual: **A == B**\n",
    "- No es igual: **A != B**\n",
    "- Es menor: **A $<$ B**, **A $<$= B**\n",
    "- Es mayor: **A $>$ B**, **A $>$= B**"
   ]
  },
  {
   "cell_type": "code",
   "execution_count": 1,
   "id": "e60e0537-a3dd-49f1-8c96-5923ca2f8015",
   "metadata": {},
   "outputs": [
    {
     "name": "stdout",
     "output_type": "stream",
     "text": [
      "bmw\n"
     ]
    }
   ],
   "source": [
    "# Asignamos variables con = ...\n",
    "auto = 'bmw'\n",
    "print(auto)"
   ]
  },
  {
   "cell_type": "code",
   "execution_count": 2,
   "id": "c2347720-062a-4ee5-b19d-c9d186eb2c2c",
   "metadata": {},
   "outputs": [
    {
     "data": {
      "text/plain": [
       "True"
      ]
     },
     "execution_count": 2,
     "metadata": {},
     "output_type": "execute_result"
    }
   ],
   "source": [
    "# ...pero vemos si es exactamente igual con ==\n",
    "auto == 'bmw'"
   ]
  },
  {
   "cell_type": "code",
   "execution_count": 3,
   "id": "efab0804-f939-4588-81b7-d293535afdb4",
   "metadata": {},
   "outputs": [
    {
     "data": {
      "text/plain": [
       "False"
      ]
     },
     "execution_count": 3,
     "metadata": {},
     "output_type": "execute_result"
    }
   ],
   "source": [
    "# ...y diferente con !=\n",
    "auto != 'bmw'"
   ]
  },
  {
   "cell_type": "code",
   "execution_count": 4,
   "id": "f4b02351-3af7-4483-935e-5f6192e4ed31",
   "metadata": {},
   "outputs": [
    {
     "data": {
      "text/plain": [
       "False"
      ]
     },
     "execution_count": 4,
     "metadata": {},
     "output_type": "execute_result"
    }
   ],
   "source": [
    "# Multiples condiciones, una prueba\n",
    "edad_0 = 22\n",
    "edad_1 = 18\n",
    "(edad_0 >= 21) and (edad_1 >= 21)"
   ]
  },
  {
   "cell_type": "markdown",
   "id": "856e640d-3c08-4ec1-9c92-72e9f3cb6082",
   "metadata": {},
   "source": [
    "## If/Else\n",
    "- Programar usualmente involucra examinar un set de condiciones y decidir que se debe hacer basado en estas condiciones (de ahi el nombre conditional statement)\n",
    "- Si (**if**) cierta condicion se cumple, el programa ejecutara un bloque de codigo determinado \n",
    "- De no ser asi (**else**), el programa ejecutara otro bloque de codigo determinado"
   ]
  },
  {
   "cell_type": "code",
   "execution_count": 5,
   "id": "be0b64f6-675e-431a-bd9e-31703a00dd62",
   "metadata": {},
   "outputs": [
    {
     "name": "stdout",
     "output_type": "stream",
     "text": [
      "Audi\n",
      "BMW\n",
      "Subaru\n",
      "Toyota\n"
     ]
    }
   ],
   "source": [
    "# Mi primer if statement\n",
    "autos = ['audi', 'bmw', 'subaru', 'toyota']\n",
    "\n",
    "for auto in autos:\n",
    "    if auto == 'bmw':\n",
    "        print(auto.upper())\n",
    "    else:\n",
    "        print(auto.title())"
   ]
  },
  {
   "cell_type": "markdown",
   "id": "701900fb-57c1-4ae8-9160-2eb217e82c00",
   "metadata": {},
   "source": [
    "En muchas ocasiones, vamos a querer introducir mas de dos situaciones. En estos casos podemos recurrir a la syntaxis **if-elif-else** de Python:"
   ]
  },
  {
   "cell_type": "code",
   "execution_count": 6,
   "id": "807ab663-b37e-49c2-840f-b3dadc685689",
   "metadata": {},
   "outputs": [
    {
     "name": "stdout",
     "output_type": "stream",
     "text": [
      "El precio de tu entrada es $250 pesos.\n"
     ]
    }
   ],
   "source": [
    "# Discriminacion de precios\n",
    "edad = 12\n",
    "\n",
    "if edad < 4:\n",
    "    precio = 0\n",
    "elif edad < 18:\n",
    "    precio = 250\n",
    "else:\n",
    "    precio = 400\n",
    "\n",
    "print(f'El precio de tu entrada es ${precio} pesos.')"
   ]
  },
  {
   "cell_type": "code",
   "execution_count": 7,
   "id": "acd734bc-19ee-454f-adf4-02588ce535ec",
   "metadata": {},
   "outputs": [
    {
     "name": "stdout",
     "output_type": "stream",
     "text": [
      "Agregando champinones.\n",
      "Lo siento, no tenemos papas fritas.\n",
      "Agregando extra queso.\n",
      "Pizza lista!\n"
     ]
    }
   ],
   "source": [
    "# Robo-pizzeria\n",
    "toppings_disponibles = ['champinones', 'aceitunas', 'pimenton verde', 'pepperoni', 'extra queso']\n",
    "toppings_pedidos = ['champinones', 'papas fritas', 'extra queso']\n",
    "\n",
    "for topping in toppings_pedidos:\n",
    "    if topping in toppings_disponibles:\n",
    "        print(f'Agregando {topping}.')\n",
    "    else:\n",
    "        print(f'Lo siento, no tenemos {topping}.')\n",
    "\n",
    "print('Pizza lista!')"
   ]
  },
  {
   "cell_type": "markdown",
   "id": "d7e9b440-3040-49e1-9a5b-e3bce7aa9893",
   "metadata": {},
   "source": [
    "<div class=\"alert alert-block alert-warning\">\n",
    "<b>Observaciones:</b>\n",
    "<ol>\n",
    "  <li>Los if statements le dan flexibilidad al programa de adaptarse a diversas condiciones</li>\n",
    "  <li>Cuando son combinados con un for loop, son una poderosa herramienta para simplificar un gran numero de acciones y decisiones en unas cuantas lineas de codigo</li>\n",
    "  <li>Los if statements pueden incluso llegar a tener if statements dentro de if statements (nested)</li>\n",
    "</ol>\n",
    "</div>"
   ]
  }
 ],
 "metadata": {
  "kernelspec": {
   "display_name": "Python 3",
   "language": "python",
   "name": "python3"
  },
  "language_info": {
   "codemirror_mode": {
    "name": "ipython",
    "version": 3
   },
   "file_extension": ".py",
   "mimetype": "text/x-python",
   "name": "python",
   "nbconvert_exporter": "python",
   "pygments_lexer": "ipython3",
   "version": "3.9.1"
  }
 },
 "nbformat": 4,
 "nbformat_minor": 5
}
